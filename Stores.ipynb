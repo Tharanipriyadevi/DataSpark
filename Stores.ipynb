{
 "cells": [
  {
   "cell_type": "code",
   "execution_count": 5,
   "id": "af52b6ba-4faf-48d3-bbb0-66300bc9d98d",
   "metadata": {},
   "outputs": [
    {
     "name": "stdout",
     "output_type": "stream",
     "text": [
      "StoreKey           int64\n",
      "Country           object\n",
      "State             object\n",
      "Square Meters    float64\n",
      "Open Date         object\n",
      "dtype: object\n",
      "StoreKey         0\n",
      "Country          0\n",
      "State            0\n",
      "Square Meters    1\n",
      "Open Date        0\n",
      "dtype: int64\n",
      "StoreKey         0\n",
      "Country          0\n",
      "State            0\n",
      "Square Meters    0\n",
      "Open Date        0\n",
      "dtype: int64\n",
      "    StoreKey        Country           State  Square Meters   Open Date\n",
      "57        58  United States    North Dakota         1330.0  08-07-2007\n",
      "58        59  United States          Oregon         2000.0  08-08-2012\n",
      "59        60  United States    Rhode Island         1260.0  04-04-2005\n",
      "60        61  United States  South Carolina         2000.0  15-12-2012\n",
      "61        62  United States    South Dakota         1120.0  03-06-2018\n",
      "62        63  United States            Utah         2000.0  06-03-2008\n",
      "63        64  United States   Washington DC         1330.0  01-01-2010\n",
      "64        65  United States   West Virginia         1785.0  01-01-2012\n",
      "65        66  United States         Wyoming          840.0  01-01-2014\n",
      "66         0         Online          Online            0.0  01-01-2010\n",
      "StoreKey           int64\n",
      "Country           object\n",
      "State             object\n",
      "Square Meters    float64\n",
      "Open Date         object\n",
      "dtype: object\n"
     ]
    }
   ],
   "source": [
    "import pandas as pd\n",
    "\n",
    "# Read the CSV file with the specified encoding\n",
    "df = pd.read_csv(\"Stores.csv\", encoding='ISO-8859-1')\n",
    "\n",
    "# Display the data types of the columns\n",
    "print(df.dtypes)\n",
    "#Display count of null values\n",
    "print(df.isnull().sum())\n",
    "\n",
    "date_formats = ['%d-%m-%Y', '%m/%d/%Y'] #date format available in my file\n",
    "\n",
    "def parse_dates(date_str): \n",
    "    for fmt in date_formats:\n",
    "        try:\n",
    "            return pd.to_datetime(date_str, format=fmt) \n",
    "        except ValueError:\n",
    "            continue\n",
    "    return pd.NaT #print not a time\n",
    "\n",
    "# Apply the parsing function to the 'date' column\n",
    "df['Open Date'] = df['Open Date'].apply(parse_dates)\n",
    "\n",
    "# Convert to the desired format\n",
    "df['Open Date'] = df['Open Date'].dt.strftime('%d-%m-%Y')\n",
    "\n",
    "\n",
    "# Fill missing values in 'Square Meters' with 0\n",
    "df['Square Meters'].fillna(0, inplace=True)\n",
    "\n",
    "# Display the number of missing values in each column\n",
    "print(df.isnull().sum())\n",
    "\n",
    "\n",
    "# Save the cleaned dataset to a new CSV file\n",
    "df.to_csv('Cleaned_Stores.csv', index=False)\n",
    "\n",
    "# Display the cleaned dataframe\n",
    "print(df.tail(10))\n",
    "print(df.dtypes)\n"
   ]
  },
  {
   "cell_type": "code",
   "execution_count": 22,
   "id": "8606df4f-a54b-4bb6-b34f-15fa9ac9b61f",
   "metadata": {},
   "outputs": [
    {
     "data": {
      "text/plain": [
       "StoreKey                  int64\n",
       "Country                  object\n",
       "State                    object\n",
       "Square Meters           float64\n",
       "Open Date        datetime64[ns]\n",
       "dtype: object"
      ]
     },
     "execution_count": 22,
     "metadata": {},
     "output_type": "execute_result"
    }
   ],
   "source": [
    "import pandas as pd\n",
    "\n",
    "# Assuming df is your DataFrame\n",
    "df['Open Date'] = pd.to_datetime(df['Open Date'], format='%d-%m-%Y')\n",
    "\n",
    "df.dtypes"
   ]
  },
  {
   "cell_type": "code",
   "execution_count": 1,
   "id": "1bd11162-c4e4-4b77-9635-b6c641f10ce6",
   "metadata": {},
   "outputs": [],
   "source": [
    "import pymysql\n",
    "import pandas as pd\n",
    "\n",
    "# Connect to MySQL\n",
    "myconnection = pymysql.connect(host='127.0.0.1', user='root', passwd='password', database=\"project\")\n",
    "\n",
    "# Load CSV data\n",
    "df = pd.read_csv(\"Cleaned_Stores.csv\")\n",
    "df = df.dropna()  # Drop null values\n",
    "\n",
    "# Replace data types from pandas to MySQL\n",
    "a = \",\".join(f\"`{i}` {j}\" for i, j in zip(df.columns, df.dtypes)).replace(\"float64\", \"FLOAT\").replace(\"object\", \"TEXT\").replace(\"int64\", \"INT\").replace(\"datetime64[ns]\",\"DATE\")\n",
    "\n",
    "# Use a valid table name\n",
    "table_name = \"Stores\"\n",
    "\n",
    "# Create the table\n",
    "create_table_query = f\"CREATE TABLE `{table_name}` ({a})\"\n",
    "with myconnection.cursor() as cursor:\n",
    "    cursor.execute(create_table_query)\n",
    "\n",
    "# Insert data into the table\n",
    "for i in range(len(df)):\n",
    "    insert_query = f\"INSERT INTO `{table_name}` VALUES {tuple(df.iloc[i])}\"\n",
    "    with myconnection.cursor() as cursor:\n",
    "        cursor.execute(insert_query)\n",
    "    myconnection.commit()\n",
    "\n",
    "myconnection.close()\n"
   ]
  }
 ],
 "metadata": {
  "kernelspec": {
   "display_name": "Python 3 (ipykernel)",
   "language": "python",
   "name": "python3"
  },
  "language_info": {
   "codemirror_mode": {
    "name": "ipython",
    "version": 3
   },
   "file_extension": ".py",
   "mimetype": "text/x-python",
   "name": "python",
   "nbconvert_exporter": "python",
   "pygments_lexer": "ipython3",
   "version": "3.11.7"
  }
 },
 "nbformat": 4,
 "nbformat_minor": 5
}
