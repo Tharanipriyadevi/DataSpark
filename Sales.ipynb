{
 "cells": [
  {
   "cell_type": "code",
   "execution_count": 1,
   "id": "afe2110d-eb88-4f27-87e0-ac96f3e10218",
   "metadata": {},
   "outputs": [
    {
     "data": {
      "text/plain": [
       "Order Number      int64\n",
       "Line Item         int64\n",
       "Order Date       object\n",
       "Delivery Date    object\n",
       "CustomerKey       int64\n",
       "StoreKey          int64\n",
       "ProductKey        int64\n",
       "Quantity          int64\n",
       "Currency Code    object\n",
       "dtype: object"
      ]
     },
     "execution_count": 1,
     "metadata": {},
     "output_type": "execute_result"
    }
   ],
   "source": [
    "import pandas as pd\n",
    "df = pd.read_csv(\"Sales.csv\", encoding='ISO-8859-1')\n",
    "df.dtypes"
   ]
  },
  {
   "cell_type": "code",
   "execution_count": 3,
   "id": "b0ad769b-039d-4504-9009-36ee1e99e83a",
   "metadata": {},
   "outputs": [],
   "source": [
    "date_formats = ['%d-%m-%Y', '%m/%d/%Y',]\n",
    "\n",
    "def parse_dates(date_str):\n",
    "    for fmt in date_formats:\n",
    "        try:\n",
    "            return pd.to_datetime(date_str, format=fmt)\n",
    "        except ValueError:\n",
    "            continue\n",
    "    return pd.NaT\n",
    "\n",
    "# Apply the parsing function to the 'date' column\n",
    "df['Order Date'] = df['Order Date'].apply(parse_dates)\n",
    "df['Delivery Date'] = df['Delivery Date'].apply(parse_dates)\n",
    "\n",
    "# Convert to the desired format\n",
    "df['Order Date'] = df['Order Date'].dt.strftime('%d-%m-%Y')\n",
    "df['Delivery Date'] = df['Delivery Date'].dt.strftime('%d-%m-%Y')"
   ]
  },
  {
   "cell_type": "code",
   "execution_count": 5,
   "id": "93ab658d-12ca-4084-953f-436bb846ca7b",
   "metadata": {},
   "outputs": [
    {
     "data": {
      "text/plain": [
       "Order Number         0\n",
       "Line Item            0\n",
       "Order Date           0\n",
       "Delivery Date    49719\n",
       "CustomerKey          0\n",
       "StoreKey             0\n",
       "ProductKey           0\n",
       "Quantity             0\n",
       "Currency Code        0\n",
       "dtype: int64"
      ]
     },
     "execution_count": 5,
     "metadata": {},
     "output_type": "execute_result"
    }
   ],
   "source": [
    "df.isnull().sum()"
   ]
  },
  {
   "cell_type": "code",
   "execution_count": 7,
   "id": "4dedf71c-7863-4bb1-a12e-0720e6f04c60",
   "metadata": {},
   "outputs": [
    {
     "data": {
      "text/plain": [
       "Order Number     0\n",
       "Line Item        0\n",
       "Order Date       0\n",
       "Delivery Date    0\n",
       "CustomerKey      0\n",
       "StoreKey         0\n",
       "ProductKey       0\n",
       "Quantity         0\n",
       "Currency Code    0\n",
       "dtype: int64"
      ]
     },
     "execution_count": 7,
     "metadata": {},
     "output_type": "execute_result"
    }
   ],
   "source": [
    "df.dropna(subset=['Delivery Date'], inplace=True)\n",
    "df.isnull().sum()"
   ]
  },
  {
   "cell_type": "code",
   "execution_count": 9,
   "id": "fc1e40cd-4ff0-45d9-b8d3-bd820013bc69",
   "metadata": {},
   "outputs": [
    {
     "data": {
      "text/html": [
       "<div>\n",
       "<style scoped>\n",
       "    .dataframe tbody tr th:only-of-type {\n",
       "        vertical-align: middle;\n",
       "    }\n",
       "\n",
       "    .dataframe tbody tr th {\n",
       "        vertical-align: top;\n",
       "    }\n",
       "\n",
       "    .dataframe thead th {\n",
       "        text-align: right;\n",
       "    }\n",
       "</style>\n",
       "<table border=\"1\" class=\"dataframe\">\n",
       "  <thead>\n",
       "    <tr style=\"text-align: right;\">\n",
       "      <th></th>\n",
       "      <th>Order Number</th>\n",
       "      <th>Line Item</th>\n",
       "      <th>Order Date</th>\n",
       "      <th>Delivery Date</th>\n",
       "      <th>CustomerKey</th>\n",
       "      <th>StoreKey</th>\n",
       "      <th>ProductKey</th>\n",
       "      <th>Quantity</th>\n",
       "      <th>Currency Code</th>\n",
       "    </tr>\n",
       "  </thead>\n",
       "  <tbody>\n",
       "    <tr>\n",
       "      <th>62878</th>\n",
       "      <td>2243029</td>\n",
       "      <td>6</td>\n",
       "      <td>20-02-2021</td>\n",
       "      <td>27-02-2021</td>\n",
       "      <td>887764</td>\n",
       "      <td>0</td>\n",
       "      <td>1456</td>\n",
       "      <td>2</td>\n",
       "      <td>EUR</td>\n",
       "    </tr>\n",
       "    <tr>\n",
       "      <th>62880</th>\n",
       "      <td>2243031</td>\n",
       "      <td>1</td>\n",
       "      <td>20-02-2021</td>\n",
       "      <td>24-02-2021</td>\n",
       "      <td>511229</td>\n",
       "      <td>0</td>\n",
       "      <td>98</td>\n",
       "      <td>4</td>\n",
       "      <td>EUR</td>\n",
       "    </tr>\n",
       "    <tr>\n",
       "      <th>62881</th>\n",
       "      <td>2243032</td>\n",
       "      <td>1</td>\n",
       "      <td>20-02-2021</td>\n",
       "      <td>23-02-2021</td>\n",
       "      <td>331277</td>\n",
       "      <td>0</td>\n",
       "      <td>1613</td>\n",
       "      <td>2</td>\n",
       "      <td>CAD</td>\n",
       "    </tr>\n",
       "    <tr>\n",
       "      <th>62882</th>\n",
       "      <td>2243032</td>\n",
       "      <td>2</td>\n",
       "      <td>20-02-2021</td>\n",
       "      <td>23-02-2021</td>\n",
       "      <td>331277</td>\n",
       "      <td>0</td>\n",
       "      <td>1717</td>\n",
       "      <td>2</td>\n",
       "      <td>CAD</td>\n",
       "    </tr>\n",
       "    <tr>\n",
       "      <th>62883</th>\n",
       "      <td>2243032</td>\n",
       "      <td>3</td>\n",
       "      <td>20-02-2021</td>\n",
       "      <td>23-02-2021</td>\n",
       "      <td>331277</td>\n",
       "      <td>0</td>\n",
       "      <td>464</td>\n",
       "      <td>7</td>\n",
       "      <td>CAD</td>\n",
       "    </tr>\n",
       "  </tbody>\n",
       "</table>\n",
       "</div>"
      ],
      "text/plain": [
       "       Order Number  Line Item  Order Date Delivery Date  CustomerKey  \\\n",
       "62878       2243029          6  20-02-2021    27-02-2021       887764   \n",
       "62880       2243031          1  20-02-2021    24-02-2021       511229   \n",
       "62881       2243032          1  20-02-2021    23-02-2021       331277   \n",
       "62882       2243032          2  20-02-2021    23-02-2021       331277   \n",
       "62883       2243032          3  20-02-2021    23-02-2021       331277   \n",
       "\n",
       "       StoreKey  ProductKey  Quantity Currency Code  \n",
       "62878         0        1456         2           EUR  \n",
       "62880         0          98         4           EUR  \n",
       "62881         0        1613         2           CAD  \n",
       "62882         0        1717         2           CAD  \n",
       "62883         0         464         7           CAD  "
      ]
     },
     "execution_count": 9,
     "metadata": {},
     "output_type": "execute_result"
    }
   ],
   "source": [
    "df.tail()"
   ]
  },
  {
   "cell_type": "code",
   "execution_count": 11,
   "id": "23b3143a-0425-4907-811e-ec2796e00a3b",
   "metadata": {},
   "outputs": [],
   "source": [
    "df.to_csv('Cleaned_Sales.csv', index=False)"
   ]
  },
  {
   "cell_type": "code",
   "execution_count": 13,
   "id": "7e7f14bf-12c2-41de-af9f-4907c5eb553e",
   "metadata": {},
   "outputs": [
    {
     "data": {
      "text/plain": [
       "Order Number      int64\n",
       "Line Item         int64\n",
       "Order Date       object\n",
       "Delivery Date    object\n",
       "CustomerKey       int64\n",
       "StoreKey          int64\n",
       "ProductKey        int64\n",
       "Quantity          int64\n",
       "Currency Code    object\n",
       "dtype: object"
      ]
     },
     "execution_count": 13,
     "metadata": {},
     "output_type": "execute_result"
    }
   ],
   "source": [
    "df.dtypes"
   ]
  },
  {
   "cell_type": "code",
   "execution_count": 18,
   "id": "fcf4dbb5-5ee3-4442-ae4b-a80fe86b8b27",
   "metadata": {},
   "outputs": [],
   "source": [
    "import pandas as pd\n",
    "import pymysql\n",
    "# Connect to MySQL\n",
    "myconnection = pymysql.connect(host='127.0.0.1', user='root', passwd='password', database=\"project\")\n",
    "\n",
    "# Load CSV data\n",
    "df = pd.read_csv(\"Cleaned_Sales.csv\")\n",
    "df = df.dropna()  # Drop null values\n",
    "\n",
    "# Replace data types from pandas to MySQL\n",
    "a = \",\".join(f\"`{i}` {j}\" for i, j in zip(df.columns, df.dtypes)).replace(\"object\", \"TEXT\").replace(\"int64\", \"INT\")\n",
    "\n",
    "# Use a valid table name\n",
    "table_name = \"Sales\"\n",
    "\n",
    "# Create the table\n",
    "create_table_query = f\"CREATE TABLE `{table_name}` ({a})\"\n",
    "with myconnection.cursor() as cursor:\n",
    "    cursor.execute(create_table_query)\n",
    "\n",
    "# Insert data into the table\n",
    "for i in range(len(df)):\n",
    "    insert_query = f\"INSERT INTO `{table_name}` VALUES {tuple(df.iloc[i])}\"\n",
    "    with myconnection.cursor() as cursor:\n",
    "        cursor.execute(insert_query)\n",
    "    myconnection.commit()\n",
    "\n",
    "myconnection.close()"
   ]
  }
 ],
 "metadata": {
  "kernelspec": {
   "display_name": "Python 3 (ipykernel)",
   "language": "python",
   "name": "python3"
  },
  "language_info": {
   "codemirror_mode": {
    "name": "ipython",
    "version": 3
   },
   "file_extension": ".py",
   "mimetype": "text/x-python",
   "name": "python",
   "nbconvert_exporter": "python",
   "pygments_lexer": "ipython3",
   "version": "3.11.7"
  }
 },
 "nbformat": 4,
 "nbformat_minor": 5
}
