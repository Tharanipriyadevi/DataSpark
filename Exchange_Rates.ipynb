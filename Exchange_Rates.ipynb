{
 "cells": [
  {
   "cell_type": "code",
   "execution_count": 1,
   "id": "4ac5008e-9191-4890-b54e-2685a03a0681",
   "metadata": {},
   "outputs": [
    {
     "name": "stdout",
     "output_type": "stream",
     "text": [
      "Date         object\n",
      "Currency     object\n",
      "Exchange    float64\n",
      "dtype: object\n"
     ]
    }
   ],
   "source": [
    "import pandas as pd\n",
    "\n",
    "# Read the CSV file with the specified encoding\n",
    "df = pd.read_csv(\"Exchange_Rates.csv\", encoding='ISO-8859-1')\n",
    "\n",
    "# Display the data types of the columns\n",
    "print(df.dtypes)\n"
   ]
  },
  {
   "cell_type": "code",
   "execution_count": 2,
   "id": "777afa87-61be-485b-a241-55d61c5615b0",
   "metadata": {},
   "outputs": [],
   "source": [
    "\n",
    "date_formats = ['%d-%m-%Y', '%m/%d/%Y'] #date format available in my file\n",
    "\n",
    "def parse_dates(date_str): \n",
    "    for fmt in date_formats:\n",
    "        try:\n",
    "            return pd.to_datetime(date_str, format=fmt) \n",
    "        except ValueError:\n",
    "            continue\n",
    "    return pd.NaT #print not a time\n",
    "\n",
    "# Apply the parsing function to the 'date' column\n",
    "df['Date'] = df['Date'].apply(parse_dates)\n",
    "\n",
    "# Convert to the desired format\n",
    "df['Date'] = df['Date'].dt.strftime('%d-%m-%Y')\n",
    "\n"
   ]
  },
  {
   "cell_type": "code",
   "execution_count": 3,
   "id": "5b8f6f6c-9eae-4d46-a21f-bb26a1d2618c",
   "metadata": {},
   "outputs": [
    {
     "data": {
      "text/plain": [
       "Date        0\n",
       "Currency    0\n",
       "Exchange    0\n",
       "dtype: int64"
      ]
     },
     "execution_count": 3,
     "metadata": {},
     "output_type": "execute_result"
    }
   ],
   "source": [
    "df.isnull().sum()"
   ]
  },
  {
   "cell_type": "code",
   "execution_count": 4,
   "id": "49f701e7-d5e6-4a47-9e04-c210e676a8ca",
   "metadata": {},
   "outputs": [],
   "source": [
    "df.to_csv('Cleaned_Exchange_Rates.csv', index=False)\n"
   ]
  },
  {
   "cell_type": "code",
   "execution_count": 5,
   "id": "ec8e72d5-8141-40b4-89fe-e4a93c52d897",
   "metadata": {},
   "outputs": [],
   "source": [
    "import pymysql\n",
    "import pandas as pd\n",
    "\n",
    "# Connect to MySQL\n",
    "myconnection = pymysql.connect(host='127.0.0.1', user='root', passwd='password', database=\"project\")\n",
    "\n",
    "# Load CSV data\n",
    "df = pd.read_csv(\"Cleaned_Exchange_Rates.csv\")\n",
    "df = df.dropna()  # Drop null values\n",
    "\n",
    "# Replace data types from pandas to MySQL\n",
    "a = \",\".join(f\"`{i}` {j}\" for i, j in zip(df.columns, df.dtypes)).replace(\"float64\", \"FLOAT\").replace(\"object\", \"TEXT\")\n",
    "\n",
    "# Use a valid table name\n",
    "table_name = \"Exchange_Rates\"\n",
    "\n",
    "# Create the table\n",
    "create_table_query = f\"CREATE TABLE `{table_name}` ({a})\"\n",
    "with myconnection.cursor() as cursor:\n",
    "    cursor.execute(create_table_query)\n",
    "\n",
    "# Insert data into the table\n",
    "for i in range(len(df)):\n",
    "    insert_query = f\"INSERT INTO `{table_name}` VALUES {tuple(df.iloc[i])}\"\n",
    "    with myconnection.cursor() as cursor:\n",
    "        cursor.execute(insert_query)\n",
    "    myconnection.commit()\n",
    "\n",
    "myconnection.close()"
   ]
  }
 ],
 "metadata": {
  "kernelspec": {
   "display_name": "Python 3 (ipykernel)",
   "language": "python",
   "name": "python3"
  },
  "language_info": {
   "codemirror_mode": {
    "name": "ipython",
    "version": 3
   },
   "file_extension": ".py",
   "mimetype": "text/x-python",
   "name": "python",
   "nbconvert_exporter": "python",
   "pygments_lexer": "ipython3",
   "version": "3.11.7"
  }
 },
 "nbformat": 4,
 "nbformat_minor": 5
}
